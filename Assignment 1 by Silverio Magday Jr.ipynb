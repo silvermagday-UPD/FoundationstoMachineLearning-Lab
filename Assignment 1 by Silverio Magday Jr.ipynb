{
 "cells": [
  {
   "cell_type": "markdown",
   "metadata": {},
   "source": [
    "# **IMPORTS**"
   ]
  },
  {
   "cell_type": "code",
   "execution_count": 6,
   "metadata": {},
   "outputs": [],
   "source": [
    "import numpy as np\n",
    "import matplotlib.pyplot as plt"
   ]
  },
  {
   "cell_type": "markdown",
   "metadata": {},
   "source": [
    "# **POSITIONAL ENCODING**\n",
    "**basis of code is from: https://www.tensorflow.org/tutorials/text/transformer**\n"
   ]
  },
  {
   "cell_type": "code",
   "execution_count": 7,
   "metadata": {},
   "outputs": [],
   "source": [
    "\n",
    "def get_angles(pos, i, d_model):\n",
    "  angle_rates = 1 / np.power(10000, (2 * (i//2)) / np.float32(d_model))\n",
    "  return pos * angle_rates\n",
    "\n",
    "def positional_encoding(position, d_model):\n",
    "  angle_rads = get_angles(np.arange(position)[:, np.newaxis],\n",
    "                          np.arange(d_model)[np.newaxis, :],\n",
    "                          d_model)\n",
    "  \n",
    "  # apply sin to even indices in the array; 2i\n",
    "  angle_rads[:, 0::2] = np.sin(angle_rads[:, 0::2])\n",
    "  \n",
    "  # apply cos to odd indices in the array; 2i+1\n",
    "  angle_rads[:, 1::2] = np.cos(angle_rads[:, 1::2])\n",
    "    \n",
    "  pos_encoding = angle_rads[np.newaxis, ...]\n",
    "    \n",
    "  return pos_encoding"
   ]
  },
  {
   "cell_type": "markdown",
   "metadata": {},
   "source": [
    "# To check Matrix is Orthogonal\n",
    "\n",
    "\"The function defined is to check for the pairwise orthogonality of the new basis\"\n"
   ]
  },
  {
   "cell_type": "code",
   "execution_count": 8,
   "metadata": {},
   "outputs": [],
   "source": [
    "def orth_check(Matrix):\n",
    "    \"\"\"\n",
    "    This function check for the pairwise orthogonality of the new basis\n",
    "    \"\"\"\n",
    "    error_tol=1.e-6\n",
    "    TransMatrix = Matrix.transpose()\n",
    "    dot_matrix = np.dot(TransMatrix,Matrix)\n",
    "    if (dot_matrix - np.eye(dot_matrix.shape[0]) < error_tol).all():\n",
    "        print('B Matrix is Orthogonal')\n",
    "        return True\n",
    "\n",
    "    else:\n",
    "        error = dot_matrix - np.eye(dot_matrix.shape[0])\n",
    "        print('\\nB Matrix is NOT Orthogonal')\n",
    "        return False"
   ]
  },
  {
   "cell_type": "markdown",
   "metadata": {},
   "source": [
    "# Grams Schmidt Method to make Matrix Orthogonal \n",
    "\n",
    "\"Applies the Gram-Schmidt method to A and returns Q and R, so Q\\*R = A.\""
   ]
  },
  {
   "cell_type": "code",
   "execution_count": 9,
   "metadata": {},
   "outputs": [],
   "source": [
    "def gramschmidt(A):\n",
    "    \"\"\"\n",
    "    Applies the Gram-Schmidt method to A\n",
    "    and returns Q and R, so Q*R = A.\n",
    "    \"\"\"\n",
    "    R = np.zeros((A.shape[1], A.shape[1]))\n",
    "    Q = np.zeros(A.shape)\n",
    "    for k in range(0, A.shape[1]):\n",
    "        R[k, k] = np.sqrt(np.dot(A[:, k], A[:, k]))\n",
    "        Q[:, k] = A[:, k]/R[k, k]\n",
    "        for j in range(k+1, A.shape[1]):\n",
    "            R[k, j] = np.dot(Q[:, k], A[:, j])\n",
    "            A[:, j] = A[:, j] - R[k, j]*Q[:, k]\n",
    "    return Q, R"
   ]
  },
  {
   "cell_type": "markdown",
   "metadata": {},
   "source": [
    "# Generate a 16 x 16 dimension position encoding"
   ]
  },
  {
   "cell_type": "code",
   "execution_count": 10,
   "metadata": {},
   "outputs": [],
   "source": [
    "tokens     = 16\n",
    "dimensions = 16\n",
    "B = positional_encoding(tokens, dimensions)\n",
    "B = B[0,:,:] "
   ]
  },
  {
   "cell_type": "markdown",
   "metadata": {},
   "source": [
    "# To Check Generated matrix is Orthogonal"
   ]
  },
  {
   "cell_type": "code",
   "execution_count": 11,
   "metadata": {},
   "outputs": [
    {
     "name": "stdout",
     "output_type": "stream",
     "text": [
      "\n",
      "B Matrix is NOT Orthogonal\n",
      "\n",
      "Making Basis vector orthogonal and Orthonormal using G-S method\n",
      "\n"
     ]
    }
   ],
   "source": [
    "check = orth_check(B)\n",
    "if check is False:\n",
    "    print('\\nMaking Basis vector orthogonal and Orthonormal using G-S method\\n')\n",
    "    Q,R =gramschmidt(B)\n"
   ]
  },
  {
   "cell_type": "markdown",
   "metadata": {},
   "source": [
    "# -------- Plotting Not Orthogonal --------"
   ]
  },
  {
   "cell_type": "code",
   "execution_count": 14,
   "metadata": {},
   "outputs": [
    {
     "name": "stdout",
     "output_type": "stream",
     "text": [
      "Plot : Positional Encoding Matrix B - Not Orthogonal \n"
     ]
    },
    {
     "data": {
      "image/png": "[encoded data removed]",
      "text/plain": [
       "<Figure size 864x576 with 2 Axes>"
      ]
     },
     "metadata": {
      "needs_background": "light"
     },
     "output_type": "display_data"
    }
   ],
   "source": [
    "print('Plot : Positional Encoding Matrix B - Not Orthogonal ')\n",
    "plt.figure(figsize=(12,8))\n",
    "plt.pcolormesh(B, cmap='hsv')\n",
    "plt.xlabel('Embedding Dimensions')\n",
    "plt.xlim((0, dimensions))\n",
    "plt.ylim((tokens,0))\n",
    "plt.ylabel('Token Position')\n",
    "plt.colorbar()\n",
    "plt.show()"
   ]
  },
  {
   "cell_type": "markdown",
   "metadata": {},
   "source": [
    "# -------- Plotting Vector made Orthogonal by G-S Method --------"
   ]
  },
  {
   "cell_type": "code",
   "execution_count": 15,
   "metadata": {},
   "outputs": [
    {
     "name": "stdout",
     "output_type": "stream",
     "text": [
      "Plot : Positional Encoding Matrix B Made Orthogonal by G-S method \n"
     ]
    },
    {
     "data": {
      "image/png": "[encoded data removed]",
      "text/plain": [
       "<Figure size 864x576 with 2 Axes>"
      ]
     },
     "metadata": {
      "needs_background": "light"
     },
     "output_type": "display_data"
    }
   ],
   "source": [
    "\n",
    "if check is False:\n",
    "    print('Plot : Positional Encoding Matrix B Made Orthogonal by G-S method ')\n",
    "    plt.figure(figsize=(12,8))\n",
    "    plt.pcolormesh(Q, cmap='hsv')\n",
    "    plt.xlabel('Embedding Dimensions')\n",
    "    plt.xlim((0, dimensions))\n",
    "    plt.ylim((tokens,0))\n",
    "    plt.ylabel('Token Position')\n",
    "    plt.colorbar()\n",
    "    plt.show()\n",
    "    "
   ]
  },
  {
   "cell_type": "code",
   "execution_count": null,
   "metadata": {},
   "outputs": [],
   "source": []
  }
 ],
 "metadata": {
  "kernelspec": {
   "display_name": "Python 3",
   "language": "python",
   "name": "python3"
  },
  "language_info": {
   "codemirror_mode": {
    "name": "ipython",
    "version": 3
   },
   "file_extension": ".py",
   "mimetype": "text/x-python",
   "name": "python",
   "nbconvert_exporter": "python",
   "pygments_lexer": "ipython3",
   "version": "3.8.3"
  }
 },
 "nbformat": 4,
 "nbformat_minor": 2
}
