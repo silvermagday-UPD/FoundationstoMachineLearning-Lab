{
 "cells": [
  {
   "cell_type": "markdown",
   "metadata": {},
   "source": [
    "## PROBLEM:\n",
    "Ask the user to supply the mean and standard deviation of a 1D Gaussian\n",
    "\n",
    "For the given mean and std, draw 1,000,000 random samples from the 1D Gaussian \n",
    "\n",
    "Build a dataset 𝒟 with 1,000 histogram bins \n",
    "\n",
    "Split the dataset into train (90%) and test (10%): 𝒟={𝒟_𝑡𝑟𝑎𝑖𝑛,𝒟_𝑡𝑒𝑠𝑡 }. Make sure both train and test are IID.\n",
    "\n",
    "Using pure Python3 and Numpy, build a 3-layer neural networks: \n",
    "\n",
    "Layers: {1−64−𝑅𝑒𝐿𝑈−64−𝑅𝑒𝐿𝑈−64−1−𝑠𝑖𝑔𝑚𝑜𝑖𝑑}  . Sigmoid is optional.\n",
    "\n",
    "Initialize the weights using a Gaussian distribution with zero mean and std=0.01\n",
    "\n",
    "Using pure Python3 and Numpy, implement the backpropagation discussed in this class. Learning rate=0.1. Batch size =1. Loss=MSE.\n",
    "\n",
    "Train for 20 epochs and evaluate the performance of your network\n",
    "\n",
    "In Google classroom, submit the github link of the solution in jupyter notebook"
   ]
  },
  {
   "cell_type": "markdown",
   "metadata": {},
   "source": [
    "## Set-up Section:\n",
    "    Asking the user to supply the mean and standard deviation (std).\n",
    "Note: Any mean and std can be provided in the section, for my case I will be using mean = 0 and std = 1."
   ]
  },
  {
   "cell_type": "code",
   "execution_count": 1,
   "metadata": {},
   "outputs": [
    {
     "name": "stdout",
     "output_type": "stream",
     "text": [
      "Please Enter Mean Value:0\n",
      "Please Enter Standard Deviation:1\n",
      "Your dataset limit is set to: [-2.0,2.0]\n"
     ]
    }
   ],
   "source": [
    "# Set up mean and std of your choice\n",
    "mean = float(input('Please Enter Mean Value:'))\n",
    "std = float(input('Please Enter Standard Deviation:'))\n",
    "\n",
    "print(\"Your dataset limit is set to: [{},{}]\".format(-2*std,2*std))\n",
    "\n"
   ]
  },
  {
   "cell_type": "markdown",
   "metadata": {
    "id": "_2iZw5aRNR6i"
   },
   "source": [
    "# **Section-0: Setup Our Data Sample** "
   ]
  },
  {
   "cell_type": "markdown",
   "metadata": {},
   "source": [
    "### Imports"
   ]
  },
  {
   "cell_type": "code",
   "execution_count": 2,
   "metadata": {},
   "outputs": [],
   "source": [
    "import numpy as np\n",
    "import scipy.stats\n",
    "import matplotlib.pyplot as plt"
   ]
  },
  {
   "cell_type": "markdown",
   "metadata": {
    "id": "9RvTpUMbNzRO"
   },
   "source": [
    "## Setting Up Input (X)"
   ]
  },
  {
   "cell_type": "markdown",
   "metadata": {
    "id": "yGMyxMqcN9Xm"
   },
   "source": [
    "### Created a function that takes mean and standard deviation as input:\n",
    "Here I have created a function using **scipy.stats** library that generates random sample with given mean and std using **[scipy.stats.beta](https://docs.scipy.org/doc/scipy/reference/generated/scipy.stats.beta.html)**.  "
   ]
  },
  {
   "cell_type": "code",
   "execution_count": 3,
   "metadata": {
    "id": "rF21F-7wGAp4"
   },
   "outputs": [],
   "source": [
    "def my_distribution(min_val,max_val,mean, std):\n",
    "    \n",
    "    scale = max_val - min_val\n",
    "    location = min_val\n",
    "    \n",
    "    # Mean and standard deviation of the unscaled beta distribution\n",
    "    unscaled_mean = (mean - min_val) / scale\n",
    "    unscaled_var = (std / scale) ** 2\n",
    "    \n",
    "    # Computation of alpha and beta can be derived from mean and variance formulas\n",
    "    t = unscaled_mean / (1 - unscaled_mean)\n",
    "    beta = ((t / unscaled_var) - (t * t) - (2 * t) - 1) / ((t * t * t) + (3 * t * t) + (3 * t) + 1)\n",
    "    alpha = beta * t\n",
    "    \n",
    "    # Not all parameters may produce a valid distribution\n",
    "    if alpha <= 0 or beta <= 0:\n",
    "        raise ValueError('Cannot create distribution for the given parameters.')\n",
    "    \n",
    "    # Make scaled beta distribution with computed parameters\n",
    "    return scipy.stats.beta(alpha, beta, scale=scale, loc=location)\n",
    "\n",
    "# This is to make random initilization predictable\n",
    "np.random.seed(100)\n",
    "\n",
    "\n",
    "# Set up limits for my data set\n",
    "min_val = -2*std\n",
    "max_val = 2*std\n",
    "\n",
    "rand = my_distribution(min_val,max_val,mean, std)\n",
    "\n"
   ]
  },
  {
   "cell_type": "markdown",
   "metadata": {
    "id": "hvbuuo6bPuHy"
   },
   "source": [
    "Below I have used **matplotlib** to visualize the distrbution of data-set samples. This will change with different means and stds.\n",
    "\n",
    "Note: Also I have generated random 1000 samples of X using **rand.rvs**"
   ]
  },
  {
   "cell_type": "code",
   "execution_count": 4,
   "metadata": {
    "colab": {
     "base_uri": "https://localhost:8080/",
     "height": 313
    },
    "id": "tZAgdFYuGIQr",
    "outputId": "cd598206-d88d-41c6-95ab-3d33bc91e7f2"
   },
   "outputs": [
    {
     "data": {
      "image/png": "[encoded data removed]",
      "text/plain": [
       "<Figure size 432x288 with 1 Axes>"
      ]
     },
     "metadata": {
      "needs_background": "light"
     },
     "output_type": "display_data"
    },
    {
     "name": "stdout",
     "output_type": "stream",
     "text": [
      "min: -1.9842690948978714 max: 1.9521797832035057\n"
     ]
    }
   ],
   "source": [
    "# Get a large sample to check bounds\n",
    "sample = rand.rvs(size=1000)\n",
    "\n",
    "# Plotting Histogram bin\n",
    "plt.hist(sample, bins=20)\n",
    "plt.xlabel('Values')\n",
    "plt.ylabel('Frequency')\n",
    "plt.title('Histogram Bin For Our Normally Generated Sample Data Set')\n",
    "plt.show()\n",
    "print('min:', sample.min(), 'max:', sample.max())\n"
   ]
  },
  {
   "cell_type": "markdown",
   "metadata": {
    "id": "Cot_IgR_QIMA"
   },
   "source": [
    "## Setting Up Output Data (Y)"
   ]
  },
  {
   "cell_type": "markdown",
   "metadata": {
    "id": "CIWlnQJzQPjg"
   },
   "source": [
    "Here I have randomly generated 1000 random samples of Y using **np.random.rand** and then rounded them up to 1 and 0s."
   ]
  },
  {
   "cell_type": "code",
   "execution_count": 5,
   "metadata": {
    "colab": {
     "base_uri": "https://localhost:8080/"
    },
    "id": "mhQMmpXqO8ca",
    "outputId": "de29c069-f8f0-40d0-f988-6143e008d38f"
   },
   "outputs": [
    {
     "data": {
      "text/plain": [
       "array([9.77038063e-01, 2.38350264e-01, 3.05771782e-01, 4.40701646e-01,\n",
       "       2.88079175e-01, 5.17414760e-01, 5.38683726e-01, 5.66421038e-02,\n",
       "       8.30165176e-01, 9.96548619e-01, 1.35839360e-01, 9.16463747e-01,\n",
       "       2.20093297e-01, 3.52234417e-01, 2.57793675e-01, 9.53119993e-01,\n",
       "       9.68447345e-01, 6.01857466e-01, 9.80887601e-01, 7.13359032e-01,\n",
       "       5.82250861e-01, 5.76589982e-01, 3.90404043e-01, 1.46114400e-01,\n",
       "       1.94065180e-01, 1.12429500e-01, 9.61940663e-01, 5.41229247e-01,\n",
       "       8.55999832e-01, 5.74073675e-01, 3.61765176e-01, 4.67342095e-01,\n",
       "       4.23019028e-01, 7.54410862e-01, 7.14931771e-01, 9.67987280e-01,\n",
       "       1.57208370e-02, 3.97513270e-01, 8.30143552e-01, 8.96646277e-01,\n",
       "       9.40113926e-01, 6.56281701e-01, 7.95382082e-02, 5.81946243e-01,\n",
       "       7.55703807e-01, 5.61438830e-01, 9.83442123e-01, 9.88816965e-01,\n",
       "       1.36569166e-02, 6.00343126e-01, 3.74650548e-01, 4.83006466e-01,\n",
       "       8.54020707e-02, 2.56226008e-02, 7.40271811e-01, 5.88843589e-01,\n",
       "       3.32965363e-01, 5.76317017e-01, 1.21612736e-01, 3.07756281e-01,\n",
       "       5.68404378e-01, 5.87699709e-01, 7.24955696e-01, 2.03033199e-01,\n",
       "       2.28480072e-01, 5.81807048e-01, 6.54204193e-01, 9.32442967e-01,\n",
       "       3.81382025e-01, 6.83748329e-01, 5.85765306e-01, 2.52273551e-01,\n",
       "       3.14526576e-01, 9.28684836e-01, 1.20027930e-01, 8.08715524e-01,\n",
       "       8.75632885e-01, 7.79525929e-01, 2.72705193e-01, 4.72766409e-02,\n",
       "       2.61190083e-01, 1.17672310e-01, 7.58729969e-01, 2.94391776e-02,\n",
       "       5.96108175e-01, 7.01585981e-01, 4.28754060e-01, 4.57762364e-02,\n",
       "       4.58783349e-01, 4.16540070e-02, 8.48964263e-01, 8.89487659e-01,\n",
       "       5.20305399e-01, 4.02694211e-01, 6.88039657e-01, 3.42372116e-01,\n",
       "       6.37113379e-01, 1.36082722e-01, 5.26229829e-02, 4.37166099e-01,\n",
       "       1.09798078e-01, 1.85937415e-01, 9.63532208e-01, 4.19412445e-01,\n",
       "       5.40859669e-02, 5.47676215e-01, 1.68449513e-01, 5.50718911e-02,\n",
       "       6.06188939e-01, 5.25555896e-04, 4.56279301e-01, 4.68089499e-01,\n",
       "       6.06449586e-02, 8.82177578e-01, 4.50655143e-01, 3.47052618e-01,\n",
       "       8.82871834e-01, 9.43786105e-01, 1.10195158e-01, 1.12685454e-01,\n",
       "       3.87573069e-01, 5.23640376e-01, 4.96868276e-01, 5.61110188e-01,\n",
       "       4.77931194e-01, 3.13728320e-01, 8.25381681e-01, 8.70140011e-01,\n",
       "       9.50995201e-01, 1.25395770e-01, 3.87377471e-01, 1.00325793e-01,\n",
       "       9.69801383e-02, 2.25672253e-02, 9.65519519e-02, 4.79560292e-01,\n",
       "       5.93858033e-01, 5.34642860e-01, 4.32762572e-02, 3.77637063e-01,\n",
       "       4.81672225e-01, 2.22859136e-01, 4.24376824e-01, 2.38590066e-01,\n",
       "       2.32019804e-01, 1.72611885e-01, 3.52384591e-01, 4.20419719e-01,\n",
       "       8.55451598e-01, 7.41320482e-01, 7.74085748e-01, 7.18408260e-01,\n",
       "       6.55943662e-02, 8.11671654e-01, 2.84395651e-02, 9.67620340e-01,\n",
       "       3.73845423e-01, 8.27079087e-01, 8.43527570e-01, 6.45416725e-01,\n",
       "       4.85438220e-01, 4.19862996e-01, 6.54204739e-01, 9.30363390e-01,\n",
       "       3.81228201e-01, 5.24440796e-01, 3.95417252e-01, 6.45894497e-01,\n",
       "       2.26046677e-01, 7.39583764e-01, 4.89067226e-01, 6.69722792e-02,\n",
       "       7.56737869e-01, 8.30440581e-01, 5.04653359e-01, 3.16032719e-02,\n",
       "       6.84923956e-02, 6.98010511e-01, 1.97845337e-01, 1.18562728e-01,\n",
       "       1.31194421e-01, 5.56799939e-01, 4.04944276e-01, 1.84430308e-01,\n",
       "       1.12155952e-01, 2.56190255e-01, 5.07528493e-01, 6.29819969e-01,\n",
       "       9.02341717e-01, 1.37072022e-01, 7.30064813e-01, 4.51502257e-01,\n",
       "       7.76857241e-01, 9.50208344e-01, 6.57936685e-01, 4.32971152e-01,\n",
       "       6.83378867e-01, 3.30797304e-01, 1.88098223e-01, 9.72838462e-01,\n",
       "       5.87081495e-01, 6.27097824e-01, 7.90003727e-01, 7.91103859e-02,\n",
       "       2.19579236e-02, 2.58591376e-01, 9.04782500e-01, 4.20092482e-01,\n",
       "       6.81001319e-01, 5.40359669e-01, 7.59774974e-01, 3.95718643e-01,\n",
       "       6.21599689e-01, 8.30472907e-01, 2.39026135e-01, 5.98598920e-01,\n",
       "       6.95081540e-02, 7.53955022e-01, 7.22188236e-01, 3.16727793e-01,\n",
       "       5.06773793e-02, 5.86103624e-01, 8.41000407e-01, 6.79399423e-01,\n",
       "       7.26786527e-01, 7.30572972e-01, 8.33920873e-01, 4.94594401e-01,\n",
       "       2.37694157e-01, 1.03897610e-01, 1.44617429e-01, 6.87512372e-01,\n",
       "       3.73440997e-01, 7.90453609e-01, 4.03291802e-01, 9.83496917e-01,\n",
       "       6.88392804e-01, 1.15995826e-01, 9.79300689e-01, 4.69226746e-01,\n",
       "       1.93654381e-01, 5.00637831e-01, 1.87768246e-01, 2.96712244e-01,\n",
       "       4.68135196e-01, 6.41893320e-01, 7.55232542e-01, 4.00471604e-01,\n",
       "       9.94091630e-03, 1.95411815e-01, 9.53738680e-01, 6.54342949e-01,\n",
       "       1.44135841e-01, 6.45081684e-01, 2.20584623e-01, 1.75488314e-02,\n",
       "       1.55266141e-01, 9.77465611e-01, 2.37092392e-01, 7.68673986e-01,\n",
       "       6.50802999e-01, 8.61579730e-01, 1.08839026e-01, 4.39081536e-01,\n",
       "       7.13405495e-01, 7.85709252e-01, 7.80814217e-01, 5.16103305e-01,\n",
       "       2.12824298e-02, 9.78593941e-01, 6.52466710e-01, 6.26018362e-01,\n",
       "       5.36391075e-01, 1.08652819e-01, 3.28049936e-01, 1.81502367e-01,\n",
       "       1.85522986e-01, 9.26739613e-01, 4.59705502e-01, 3.16196026e-01,\n",
       "       8.67237573e-01, 9.72523706e-01, 8.70734639e-01, 2.52141708e-01,\n",
       "       5.14336525e-01, 8.03059292e-01, 3.94466118e-01, 6.36946835e-01,\n",
       "       4.92399961e-01, 2.42163550e-01, 3.30887395e-01, 1.04151422e-01,\n",
       "       8.81172439e-01, 5.97485961e-01, 2.01289173e-01, 1.96144983e-01,\n",
       "       4.70441083e-01, 6.44636875e-01, 4.81587560e-01, 4.67421747e-01,\n",
       "       9.28044073e-01, 5.04957474e-01, 4.24992877e-01, 1.87942929e-01,\n",
       "       6.98371881e-02, 6.31238832e-01, 9.70082174e-01, 5.54064734e-01,\n",
       "       6.89021873e-01, 7.27955882e-01, 4.88055914e-01, 6.85403581e-01,\n",
       "       7.12281130e-01, 4.12244404e-01, 4.50854024e-01, 8.59111824e-02,\n",
       "       2.59347056e-01, 9.20617184e-01, 5.05955915e-02, 9.42012940e-01,\n",
       "       7.67623418e-01, 2.16299211e-01, 1.95945728e-01, 2.39112263e-01,\n",
       "       2.29457531e-01, 4.39880884e-01, 9.38162076e-01, 1.57209189e-01,\n",
       "       6.18624767e-01, 1.34009672e-01, 4.35235269e-01, 7.56663302e-01,\n",
       "       6.12696765e-01, 8.64891098e-01, 5.66271479e-01, 1.65801661e-01,\n",
       "       3.25572676e-01, 9.38194770e-01, 3.99863353e-01, 1.50874442e-02,\n",
       "       5.94827718e-01, 2.68718291e-01, 7.10216595e-01, 4.22403752e-01,\n",
       "       6.68690578e-01, 3.85526677e-02, 8.07993065e-01, 5.67687635e-01,\n",
       "       7.92770659e-02, 6.86656843e-01, 4.77307355e-01, 8.91774629e-01,\n",
       "       5.44469143e-01, 2.94045729e-01, 3.49397526e-01, 3.23858987e-01,\n",
       "       5.04884355e-01, 7.67713662e-01, 9.23336366e-01, 2.93395692e-01,\n",
       "       1.15473828e-01, 8.38684852e-01, 3.02959818e-01, 2.77552785e-01,\n",
       "       4.09936982e-01, 4.07790288e-01, 9.80257015e-01, 1.84019046e-01,\n",
       "       6.60758261e-01, 2.80916029e-01, 3.50392868e-02, 3.26245129e-01,\n",
       "       8.53268343e-01, 6.19112691e-01, 4.65075902e-01, 5.72813537e-01,\n",
       "       3.46308635e-01, 1.16815170e-01, 2.44420470e-01, 9.41681269e-01,\n",
       "       8.73071812e-01, 5.19594879e-01, 5.05459117e-01, 2.18251820e-02,\n",
       "       8.99626690e-01, 8.29441647e-01, 7.01714905e-01, 7.24719080e-01,\n",
       "       7.61601816e-01, 7.33323690e-01, 8.07711809e-01, 5.35792884e-01,\n",
       "       5.39183183e-01, 4.61794756e-01, 5.45103133e-01, 9.49099303e-01,\n",
       "       9.06523322e-01, 3.04147288e-02, 4.55255350e-01, 2.43708254e-01,\n",
       "       5.89334329e-01, 6.49090820e-01, 4.84858850e-02, 9.58224275e-02,\n",
       "       4.26553277e-01, 3.88923450e-01, 9.84618102e-01, 6.01135680e-01,\n",
       "       3.21200756e-02, 9.25999210e-01, 6.14119444e-01, 4.55341617e-01,\n",
       "       5.14429110e-01, 2.73189513e-01, 8.20971628e-01, 5.42464526e-01,\n",
       "       8.82103349e-01, 7.49615749e-01, 5.89615943e-01, 6.61189668e-01,\n",
       "       7.65642697e-01, 3.31573567e-01, 2.05400358e-01, 1.18362108e-01,\n",
       "       3.19732405e-01, 8.44707278e-01, 3.05588643e-01, 2.40750454e-01,\n",
       "       5.06752054e-01, 5.43712008e-01, 2.72571489e-01, 9.94071704e-01,\n",
       "       8.14533533e-01, 1.70933093e-01, 8.83528575e-01, 2.94140507e-01,\n",
       "       3.78079510e-01, 5.12676239e-01, 9.03307227e-01, 5.98698669e-01,\n",
       "       6.64633159e-01, 9.94162375e-01, 5.54052222e-01, 3.30981608e-01,\n",
       "       6.74135070e-01, 5.89584965e-01, 9.76730668e-01, 4.69197915e-01,\n",
       "       3.36462216e-01, 7.50905286e-02, 9.66648899e-01, 7.14790621e-01,\n",
       "       4.84401360e-01, 6.27995961e-01, 3.19962028e-01, 5.87625946e-01,\n",
       "       9.21822745e-01, 6.01593468e-01, 9.01353681e-01, 7.71452580e-01,\n",
       "       8.01274246e-01, 1.55621129e-02, 7.10311366e-01, 4.87704004e-01,\n",
       "       9.57417473e-01, 8.78840470e-01, 6.23951580e-01, 7.90344487e-01,\n",
       "       1.95349039e-01, 6.68488002e-01, 9.62002671e-02, 4.04386325e-01,\n",
       "       4.14534755e-01, 4.59962094e-01, 4.55855375e-01, 1.63440795e-02,\n",
       "       9.75067172e-01, 5.54676361e-01, 7.59998771e-01, 2.01449305e-01,\n",
       "       6.16902264e-01, 4.08856467e-01, 4.55890377e-02, 2.57946156e-01,\n",
       "       2.77731519e-02, 6.96282329e-01, 1.56681285e-01, 9.86663911e-01,\n",
       "       9.56146828e-01, 5.75571347e-01, 2.32706272e-01, 6.24343890e-01,\n",
       "       6.67000752e-01, 1.18991470e-01, 8.31672630e-01, 4.47144413e-01,\n",
       "       4.48003823e-01, 7.08222384e-01, 3.13507449e-01, 4.42383580e-01,\n",
       "       4.20368544e-01, 3.08474792e-01, 5.73031906e-01, 9.79918773e-01,\n",
       "       9.55367724e-01, 2.79524103e-01, 1.89795224e-01, 5.81417362e-01,\n",
       "       4.74122010e-01, 1.14657440e-01, 8.40156849e-01, 2.51725042e-01,\n",
       "       6.90312006e-01, 9.46362749e-01, 4.78642342e-01, 1.19602306e-01,\n",
       "       3.15446019e-01, 2.41520037e-01, 1.49058394e-01, 1.62609635e-01,\n",
       "       5.60460430e-01, 4.49922203e-01, 1.10624917e-01, 7.23850650e-01,\n",
       "       5.80353431e-03, 3.56824696e-01, 1.96761376e-01, 8.66493883e-01,\n",
       "       2.32524128e-01, 4.15330662e-01, 3.95810794e-01, 2.25715505e-01,\n",
       "       1.51281680e-01, 4.67678046e-01, 6.62183210e-01, 5.19182442e-01,\n",
       "       2.98157244e-01, 5.83922677e-01, 1.93469366e-01, 1.79852274e-01,\n",
       "       5.22350793e-01, 5.66296491e-01, 4.65390612e-01, 8.02955119e-01,\n",
       "       4.10190932e-01, 9.13034670e-03, 7.40975448e-01, 1.51091804e-01,\n",
       "       4.48082209e-01, 5.83686857e-01, 3.70203331e-01, 8.49775263e-01,\n",
       "       6.37336190e-01, 6.09352743e-01, 4.54399982e-02, 8.11894109e-02,\n",
       "       8.37480673e-01, 4.11323932e-01, 2.05253639e-01, 5.28910005e-01,\n",
       "       1.19319597e-01, 4.70049385e-02, 3.93791281e-01, 2.64434507e-01,\n",
       "       3.42023049e-01, 3.48769784e-01, 5.92819385e-01, 7.59007228e-01,\n",
       "       9.21724547e-01, 4.14567475e-01, 9.63174659e-01, 2.04261076e-02,\n",
       "       5.31556811e-02, 1.89224156e-02, 3.75584080e-01, 9.09995613e-01,\n",
       "       6.07296035e-01, 6.84315483e-01, 1.40006026e-01, 2.76447340e-01,\n",
       "       2.89728125e-01, 3.49372795e-01, 2.71331847e-01, 6.08504422e-01,\n",
       "       8.15458944e-01, 5.62654913e-01, 1.94268601e-01, 2.25156093e-01,\n",
       "       2.45811157e-01, 5.15697428e-01, 5.28773545e-01, 9.14079940e-01,\n",
       "       6.80420047e-01, 8.52281143e-01, 9.58837992e-01, 3.86812612e-01,\n",
       "       7.85739015e-01, 6.12761694e-01, 9.20308213e-02, 9.29867484e-01,\n",
       "       4.68768487e-01, 7.52661106e-01, 6.39826021e-01, 8.06730978e-01,\n",
       "       1.39081311e-01, 9.98053374e-02, 4.48992253e-02, 7.25735613e-01,\n",
       "       5.69356500e-01, 2.75439790e-01, 4.05171992e-03, 1.96067725e-01,\n",
       "       2.79245549e-01, 9.53731985e-01, 9.87461837e-01, 7.08987526e-01,\n",
       "       6.57651754e-01, 7.35094840e-01, 6.32398018e-01, 2.04953223e-01,\n",
       "       7.08211539e-01, 6.57830003e-01, 9.61790873e-01, 1.87919754e-01,\n",
       "       9.57307780e-01, 2.39528992e-01, 7.48896520e-01, 8.31523816e-01,\n",
       "       3.25908347e-01, 7.34545334e-01, 8.76936363e-01, 5.53598093e-01,\n",
       "       8.98677353e-01, 1.03886546e-01, 1.35351639e-01, 1.28217113e-01,\n",
       "       8.57976620e-01, 4.03064546e-01, 7.96284458e-01, 2.10887395e-02,\n",
       "       8.77507236e-01, 5.53316153e-01, 6.33305314e-02, 1.85210398e-01,\n",
       "       9.28429864e-01, 5.22116829e-01, 7.47982122e-01, 1.75386037e-01,\n",
       "       2.27970742e-01, 9.26163239e-01, 9.48703495e-01, 2.48285246e-01,\n",
       "       3.06984863e-01, 3.05547741e-01, 1.95948390e-01, 4.02985910e-02,\n",
       "       8.61627990e-01, 8.93290795e-02, 6.48211442e-01, 7.62418563e-01,\n",
       "       7.20568671e-01, 7.91925575e-01, 9.03058248e-01, 9.50630108e-01,\n",
       "       7.09175276e-01, 4.31384354e-01, 8.11261437e-01, 9.92752141e-01,\n",
       "       6.30827149e-01, 7.67062696e-01, 4.85822772e-01, 8.67671992e-01,\n",
       "       6.40343711e-01, 2.78747376e-01, 4.68797436e-01, 7.28282294e-01,\n",
       "       3.49745972e-01, 5.25887639e-01, 7.80521401e-01, 6.38527221e-01,\n",
       "       7.23487514e-01, 7.33283075e-01, 3.61710403e-01, 8.82548350e-01,\n",
       "       1.43024229e-01, 1.70311634e-01, 6.95446590e-01, 7.48408258e-02,\n",
       "       7.67480081e-01, 9.18740492e-01, 7.97103356e-01, 6.14501311e-02,\n",
       "       1.52870367e-01, 8.11812195e-01, 8.72969926e-01, 7.41159478e-01,\n",
       "       5.72823801e-01, 5.97788176e-01, 4.11059328e-01, 6.75786846e-01,\n",
       "       3.69007177e-01, 6.72025040e-01, 7.95818990e-01, 2.17280600e-02,\n",
       "       1.37707257e-01, 5.54960484e-02, 4.37217184e-01, 4.77746162e-01,\n",
       "       8.84863922e-01, 6.01451184e-01, 7.02797161e-01, 5.15777075e-01,\n",
       "       4.90902657e-01, 5.35504567e-01, 6.96594332e-01, 3.55661664e-02,\n",
       "       8.96730511e-03, 3.10648097e-01, 2.56066357e-01, 7.07564789e-01,\n",
       "       7.08790184e-01, 5.92294212e-01, 8.04575023e-01, 4.66744416e-01,\n",
       "       3.70605801e-01, 7.41247717e-01, 1.76395126e-01, 4.42942620e-01,\n",
       "       9.17807502e-01, 8.92129125e-01, 3.65796689e-02, 7.46057984e-02,\n",
       "       7.18907361e-02, 9.17930307e-01, 3.20550790e-01, 4.53518081e-01,\n",
       "       1.54711354e-01, 9.96064101e-01, 5.04669149e-01, 1.27626083e-01,\n",
       "       9.02727867e-01, 1.11338964e-01, 6.12160820e-01, 2.41289417e-01,\n",
       "       2.75002587e-01, 9.47558438e-01, 6.06575839e-01, 3.34275977e-01,\n",
       "       4.35501679e-01, 9.81926207e-01, 2.41758557e-01, 3.61272515e-01,\n",
       "       7.25614395e-01, 6.44703524e-01, 3.20031691e-01, 1.41873271e-01,\n",
       "       3.65655953e-01, 7.85192114e-01, 6.05427504e-01, 2.71433579e-01,\n",
       "       5.25754919e-01, 5.81891279e-01, 2.10741448e-01, 6.82393076e-02,\n",
       "       6.49447602e-01, 1.49399984e-01, 2.65148364e-01, 2.11496143e-02,\n",
       "       9.99821223e-01, 8.59166726e-01, 3.95067672e-01, 1.33284342e-01,\n",
       "       2.40479684e-01, 1.63824413e-01, 7.84213242e-01, 1.79396616e-01,\n",
       "       1.03383665e-01, 9.67619163e-01, 5.69930840e-02, 9.35851533e-01,\n",
       "       4.58501885e-01, 4.02628871e-01, 3.42282250e-01, 2.78701697e-01,\n",
       "       9.53700327e-01, 1.45910700e-01, 1.13836107e-01, 2.00751519e-01,\n",
       "       6.20251574e-01, 3.49149296e-01, 2.52662437e-01, 1.64722876e-02,\n",
       "       2.14988453e-02, 4.32224396e-01, 2.50088008e-02, 5.83646173e-01,\n",
       "       1.28203690e-01, 7.72901894e-01, 5.72515404e-01, 2.96774657e-01,\n",
       "       2.83015766e-01, 6.09929842e-01, 2.10603631e-01, 2.30054454e-01,\n",
       "       9.12156229e-01, 8.18982694e-01, 7.16305431e-01, 2.80113988e-01,\n",
       "       8.59373645e-01, 2.12175098e-01, 8.66020686e-01, 2.79215803e-01,\n",
       "       4.77555214e-01, 1.81140540e-01, 3.60617413e-01, 9.10858727e-01,\n",
       "       8.95282988e-01, 4.10403805e-01, 1.27007719e-01, 8.57943944e-01,\n",
       "       8.23045070e-01, 8.46218327e-02, 5.24370404e-01, 5.98332476e-01,\n",
       "       2.90540555e-02, 1.69402880e-01, 1.50673342e-01, 6.98040361e-01,\n",
       "       3.16612778e-01, 9.16231090e-01, 3.20939246e-02, 1.06705470e-01,\n",
       "       5.46580217e-01, 8.92662199e-01, 4.74522478e-01, 6.83965129e-01,\n",
       "       4.30656838e-01, 5.30686009e-01, 8.26624178e-01, 5.60554655e-01,\n",
       "       5.19612871e-01, 8.12271422e-01, 1.82553381e-01, 8.09501973e-01,\n",
       "       1.22230127e-01, 1.20918952e-01, 7.65754183e-01, 3.30010365e-01,\n",
       "       1.57200330e-01, 5.05699635e-01, 1.21016437e-01, 8.68948200e-01,\n",
       "       8.98719929e-02, 4.58839037e-01, 3.05990951e-01, 1.25688203e-01,\n",
       "       8.72153876e-01, 6.25510194e-01, 8.85666446e-01, 6.01943997e-02,\n",
       "       7.66660211e-01, 3.02354857e-01, 2.74444383e-02, 5.57087802e-01,\n",
       "       9.73613040e-01, 5.70071989e-01, 9.33402467e-01, 2.55323385e-01,\n",
       "       4.09608467e-01, 8.10183814e-01, 5.35550699e-01, 3.66720583e-01,\n",
       "       1.94312896e-01, 6.58438442e-02, 1.37386675e-01, 2.52916188e-01,\n",
       "       8.86666354e-01, 3.32565829e-01, 2.87731516e-01, 6.19748531e-01,\n",
       "       7.26292581e-01, 5.19932410e-01, 2.33393588e-01, 2.56275585e-01,\n",
       "       4.27381298e-01, 7.36051407e-01, 4.95243492e-01, 4.24040068e-01,\n",
       "       3.73833373e-01, 6.05354639e-01, 7.41551067e-02, 2.59458022e-01,\n",
       "       9.39091495e-01, 3.55030581e-02, 1.29021043e-01, 9.45301411e-01,\n",
       "       8.84679246e-01, 7.13688813e-02, 6.63233683e-01, 9.41655326e-01,\n",
       "       7.37508427e-02, 4.63939732e-01, 9.79263033e-01, 9.48163883e-01,\n",
       "       8.50311787e-01, 8.97332879e-01, 7.50373878e-01, 7.73441353e-01,\n",
       "       2.49878743e-01, 8.28091956e-02, 3.66720733e-01, 2.28311348e-01,\n",
       "       4.38377920e-01, 9.54137625e-01, 4.38917140e-02, 7.48824597e-01,\n",
       "       4.45462364e-01, 5.58879952e-01, 2.04999828e-01, 7.19368723e-01,\n",
       "       3.60052848e-01, 8.37351982e-01, 2.55855556e-01, 8.36731155e-01,\n",
       "       7.17755517e-01, 5.42152718e-01, 7.27716798e-02, 1.88972090e-01,\n",
       "       2.25830265e-01, 5.01808843e-01, 1.89993844e-01, 1.27868409e-01,\n",
       "       6.76397171e-01, 9.43440802e-01, 3.30202300e-01, 8.83681277e-01,\n",
       "       5.35722123e-01, 6.22228434e-01, 6.82517524e-01, 2.53867985e-01,\n",
       "       5.60302360e-01, 5.05137246e-01, 2.15678763e-01, 1.47163585e-01,\n",
       "       9.73054310e-01, 5.26126089e-01, 7.84758481e-01, 3.64163402e-01,\n",
       "       4.38787943e-01, 7.88604143e-01, 1.36454350e-01, 9.94795514e-01,\n",
       "       6.41341342e-01, 7.99735353e-01, 3.91763516e-01, 1.94457073e-01,\n",
       "       4.61617972e-01, 6.42298596e-01, 8.11821893e-01, 1.46233717e-01,\n",
       "       8.88539235e-01, 3.67737984e-01, 3.60400015e-01, 8.38850151e-01,\n",
       "       6.28910043e-01, 6.15506421e-01, 2.01063694e-01, 4.81836257e-01,\n",
       "       8.33516291e-02, 8.66565623e-01, 9.86433799e-01, 5.85576003e-02,\n",
       "       3.40415062e-01, 4.46939398e-01, 2.87937332e-01, 7.85467462e-01,\n",
       "       6.71676398e-01, 6.33164522e-01, 8.87270231e-01, 3.37366483e-01,\n",
       "       3.65135332e-01, 3.64879532e-01, 1.31205443e-01, 8.57699333e-01,\n",
       "       3.53705594e-01, 4.91058386e-01, 5.53312939e-01, 7.65260833e-01,\n",
       "       9.37586135e-01, 7.29406013e-01, 2.69638217e-01, 4.28952047e-01,\n",
       "       4.94728369e-01, 1.51894448e-01, 5.89508741e-01, 8.26895328e-01,\n",
       "       2.71071156e-01, 8.43167211e-01, 9.42236264e-01, 1.27250626e-02])"
      ]
     },
     "execution_count": 5,
     "metadata": {},
     "output_type": "execute_result"
    }
   ],
   "source": [
    "# Generate random no. between 0 and 1\n",
    "rand_Y = np.random.rand(1000) \n",
    "\n",
    "# Round them off to generate 1s and 0s for output\n",
    "output = rand_Y #np.round(rand_Y)\n",
    "\n",
    "y_value = output\n",
    "\n",
    "# Display\n",
    "output"
   ]
  },
  {
   "cell_type": "markdown",
   "metadata": {
    "id": "d6-ThxxGRC1W"
   },
   "source": [
    "# **Section-1: Splitting our training and testing dataset**  "
   ]
  },
  {
   "cell_type": "markdown",
   "metadata": {
    "id": "k4gh2mXMRPr1"
   },
   "source": [
    "I have used **scikit** to split my dataset into training and testing set. As mentioned 90% of data is for training and 10% is for testing/validation. "
   ]
  },
  {
   "cell_type": "code",
   "execution_count": 6,
   "metadata": {
    "id": "89nm7M1rNj3g"
   },
   "outputs": [],
   "source": [
    "from sklearn.model_selection import train_test_split\n",
    "# the test_size parameter sets test_size to 10 percent\n",
    "X_train,X_test,Y_train,Y_test  = train_test_split(sample , output, test_size=0.1, random_state=42)"
   ]
  },
  {
   "cell_type": "markdown",
   "metadata": {
    "id": "LO9SuhbJR_kw"
   },
   "source": [
    "# **Section-2: Initialize Parameters**"
   ]
  },
  {
   "cell_type": "markdown",
   "metadata": {
    "id": "yHSugX6sS2_L"
   },
   "source": [
    "I will initialize the weight with mean:0 and std:1. Our initialize parameters function takes layers_dim array where our layers info is saved and then initialize weights according to it.\n",
    "\n",
    "**layers_dim** : Contain all the layers in the neural net including the input layer.\n",
    "\n",
    "---\n",
    "\n",
    "Here I used **He Initialization** to deal with **vanishing** and **exploding** gradient problem."
   ]
  },
  {
   "cell_type": "code",
   "execution_count": 7,
   "metadata": {
    "id": "wjIeUfeqPxoz"
   },
   "outputs": [],
   "source": [
    "def initialize_parameters(layers_dim):\n",
    "  \n",
    "  np.random.seed(3)\n",
    "\n",
    "  # Getting the total no. of layers\n",
    "  L = len(layers_dim)\n",
    "  \n",
    "  # Dictionary where our parameters will be saved\n",
    "  parameters={}\n",
    "\n",
    "  # For every layer we will initialize our parameters W and b and save them on parameters dictionary\n",
    "  for l in range(1,L):\n",
    "    parameters['W'+str(l)] = np.random.randn(layers_dim[l],layers_dim[l-1]) * (np.sqrt(2/layers_dim[l-1]))\n",
    "    parameters['b'+str(l)] = np.zeros((layers_dim[l],1))\n",
    "\n",
    "    assert parameters['W'+str(l)].shape == (layers_dim[l],layers_dim[l-1])\n",
    "    assert parameters['b'+str(l)].shape == (layers_dim[l],1)\n",
    "\n",
    "  return parameters\n",
    "\n"
   ]
  },
  {
   "cell_type": "code",
   "execution_count": 8,
   "metadata": {
    "colab": {
     "base_uri": "https://localhost:8080/"
    },
    "id": "-h2R1ryxwgW-",
    "outputId": "9c18eff1-0d00-40f2-82d1-a4df9bbf5faf"
   },
   "outputs": [
    {
     "name": "stdout",
     "output_type": "stream",
     "text": [
      "W1 = [[ 2.52950265]\n",
      " [ 0.61731815]\n",
      " [ 0.13646803]\n",
      " [-2.63537665]\n",
      " [-0.39228616]\n",
      " [-0.50170496]\n",
      " [-0.11701413]\n",
      " [-0.88671286]\n",
      " [-0.06196825]\n",
      " [-0.67488821]\n",
      " [-1.85808535]\n",
      " [ 1.25104497]\n",
      " [ 1.24637193]\n",
      " [ 2.41770141]\n",
      " [ 0.07075826]\n",
      " [-0.57230029]\n",
      " [-0.77125543]\n",
      " [-2.18704919]\n",
      " [ 1.38927735]\n",
      " [-1.55714478]\n",
      " [-1.67590887]\n",
      " [-0.29083288]\n",
      " [ 2.10173116]\n",
      " [ 0.33476736]\n",
      " [-1.44785083]\n",
      " [-1.00832465]\n",
      " [ 0.88422991]\n",
      " [-0.22700018]\n",
      " [-1.08729879]\n",
      " [-0.32531257]\n",
      " [ 1.05366868]\n",
      " [ 2.79464267]\n",
      " [-1.75945609]\n",
      " [-0.88588729]\n",
      " [-1.13669691]\n",
      " [-3.42110023]\n",
      " [-1.30643921]\n",
      " [-1.44797899]\n",
      " [ 1.58954487]\n",
      " [-0.1865549 ]\n",
      " [-2.29567229]\n",
      " [ 0.9145372 ]\n",
      " [-0.50384294]\n",
      " [-2.4651737 ]\n",
      " [-0.84379002]\n",
      " [-0.83239815]\n",
      " [-1.2358562 ]\n",
      " [ 0.04202168]\n",
      " [-3.17951663]\n",
      " [-0.37867246]\n",
      " [ 1.43285776]\n",
      " [ 1.20603827]\n",
      " [ 1.56721379]\n",
      " [ 1.58305745]\n",
      " [ 2.10370367]\n",
      " [-1.58151599]\n",
      " [ 1.19618908]\n",
      " [-2.63169521]\n",
      " [-0.85260829]\n",
      " [-2.70747233]\n",
      " [ 1.48230443]\n",
      " [ 1.88619011]\n",
      " [-0.27918652]\n",
      " [ 2.50972707]]\n",
      "W2 = [[-0.1192761   0.02662555  0.02703724 ...  0.05074113 -0.01368976\n",
      "   0.04880248]\n",
      " [-0.11462393 -0.1303666  -0.02971441 ... -0.09906096 -0.10403337\n",
      "  -0.27339503]\n",
      " [-0.02258535  0.04387032  0.07880368 ...  0.04698496 -0.16123642\n",
      "  -0.02758749]\n",
      " ...\n",
      " [-0.16191096  0.1058918  -0.09650027 ... -0.22897563 -0.09058529\n",
      "   0.15964882]\n",
      " [ 0.36089967 -0.2064941   0.07441595 ...  0.18417476 -0.00423759\n",
      "   0.37658902]\n",
      " [-0.08421836  0.04792236 -0.16235175 ... -0.01836101  0.10483845\n",
      "  -0.17620491]]\n",
      "W3 = [[ 0.10833728 -0.32180092  0.20824722 ...  0.03028413  0.03559319\n",
      "  -0.05513618]\n",
      " [-0.06905591  0.0248488  -0.26040903 ...  0.15875857 -0.00285497\n",
      "  -0.26752232]\n",
      " [-0.05230834  0.02981442  0.29030523 ... -0.50392011  0.03445552\n",
      "   0.10913728]\n",
      " ...\n",
      " [-0.3280511   0.15282996  0.04383491 ...  0.18961815  0.21987586\n",
      "   0.00165519]\n",
      " [ 0.22373158  0.11986838  0.10382704 ...  0.1463041  -0.09891539\n",
      "   0.127498  ]\n",
      " [ 0.1240986  -0.21158263 -0.13294037 ... -0.37921999  0.06392689\n",
      "   0.19287577]]\n",
      "W4 = [[-1.94476338e-01  1.16782254e-01 -1.33352188e-01 -4.87657780e-05\n",
      "  -3.10757844e-01 -2.19613769e-02 -1.26353106e-01 -2.76048359e-01\n",
      "  -1.53437069e-01  4.49698293e-02 -2.09761342e-02  3.58343535e-02\n",
      "   4.90483973e-02  1.08939891e-02  7.45957448e-02 -1.29037466e-01\n",
      "   1.73148895e-01 -1.08849090e-01  4.33965532e-01  3.32652346e-01\n",
      "  -2.00179764e-01 -6.19850738e-02  6.59804534e-02  2.08669824e-01\n",
      "  -1.58135531e-01  6.05586163e-02  4.54395787e-02 -1.71902798e-02\n",
      "   1.23605763e-01  1.13324326e-01 -3.45479396e-01 -3.42575112e-03\n",
      "   9.44277936e-02 -1.57892743e-02 -1.38202028e-01 -2.78946556e-02\n",
      "   3.84790288e-01  1.44308498e-02  4.33061913e-02 -1.39708275e-01\n",
      "  -1.05462265e-02 -2.10939555e-01  2.15532976e-01  8.22777734e-02\n",
      "   2.25215717e-01 -7.25185587e-02 -2.08949761e-02  3.54200470e-03\n",
      "  -4.95537519e-02 -7.43885296e-02  1.32863045e-01  1.62747477e-01\n",
      "   5.25498443e-03  7.27102403e-02  8.78557089e-03 -1.06223339e-01\n",
      "   2.32545487e-01  3.49906954e-02 -1.29684180e-01 -1.23496493e-01\n",
      "  -1.18573730e-01 -1.89224036e-01  2.02037346e-01  2.58928688e-01]]\n"
     ]
    }
   ],
   "source": [
    "# Here is the layers_dim 1->64->64->64->1\n",
    "\n",
    "layers_dim = [1,64,64,64,1]\n",
    "parameters = initialize_parameters(layers_dim)\n",
    "\n",
    "# Shape of all the weights in parameters dictionary\n",
    "print(\"W1 = \" + str(parameters['W1']))\n",
    "print(\"W2 = \" + str(parameters['W2']))\n",
    "print(\"W3 = \" + str(parameters['W3']))\n",
    "print(\"W4 = \" + str(parameters['W4']))\n",
    "\n",
    "\n",
    "\n",
    "\n",
    "\n",
    "\n"
   ]
  },
  {
   "cell_type": "markdown",
   "metadata": {
    "id": "DEchTvEWJFxM"
   },
   "source": [
    "### Visualization Of the Weights"
   ]
  },
  {
   "cell_type": "code",
   "execution_count": 9,
   "metadata": {
    "colab": {
     "base_uri": "https://localhost:8080/",
     "height": 1000
    },
    "id": "UIeRJ6gxJEL3",
    "outputId": "b9543779-07b7-4b9b-c73f-800946d4d35a"
   },
   "outputs": [
    {
     "data": {
      "image/png": "[encoded data removed]",
      "text/plain": [
       "<Figure size 432x288 with 1 Axes>"
      ]
     },
     "metadata": {
      "needs_background": "light"
     },
     "output_type": "display_data"
    },
    {
     "data": {
      "image/png": "[encoded data removed]",
      "text/plain": [
       "<Figure size 432x288 with 1 Axes>"
      ]
     },
     "metadata": {
      "needs_background": "light"
     },
     "output_type": "display_data"
    },
    {
     "data": {
      "image/png": "[encoded data removed]",
      "text/plain": [
       "<Figure size 432x288 with 1 Axes>"
      ]
     },
     "metadata": {
      "needs_background": "light"
     },
     "output_type": "display_data"
    },
    {
     "data": {
      "image/png": "[encoded data removed]",
      "text/plain": [
       "<Figure size 432x288 with 1 Axes>"
      ]
     },
     "metadata": {
      "needs_background": "light"
     },
     "output_type": "display_data"
    }
   ],
   "source": [
    "#Histogram binning for the weights\n",
    "for i in range(1,len(layers_dim)):\n",
    "  plt.hist(parameters['W'+str(i)], bins=20)\n",
    "  plt.xlabel('Values')\n",
    "  plt.ylabel('Frequency')\n",
    "  plt.title('Histogram Bin For W{}'.format(str(i)))\n",
    "  plt.show()\n",
    "\n"
   ]
  },
  {
   "cell_type": "markdown",
   "metadata": {
    "id": "z-ESPBWcTrfe"
   },
   "source": [
    "# **Section-3 : Forward Propagation**"
   ]
  },
  {
   "cell_type": "markdown",
   "metadata": {
    "id": "kA71wSeuUf25"
   },
   "source": [
    "## Creating here the Function For the Activation Function"
   ]
  },
  {
   "cell_type": "markdown",
   "metadata": {
    "id": "R8ejtocdU0DA"
   },
   "source": [
    "### **RELU FUNCTION**"
   ]
  },
  {
   "cell_type": "code",
   "execution_count": 10,
   "metadata": {
    "id": "L3VETRxFydfY"
   },
   "outputs": [],
   "source": [
    "def RELU(Z):\n",
    "  \n",
    "  activation = np.maximum(0,Z)\n",
    "  cache = Z\n",
    "\n",
    "  return activation,cache"
   ]
  },
  {
   "cell_type": "markdown",
   "metadata": {
    "id": "RtO0LSrGU6zL"
   },
   "source": [
    "### **SIGMOID FUNCTION**"
   ]
  },
  {
   "cell_type": "code",
   "execution_count": 11,
   "metadata": {
    "id": "4hXsxH6bvVDe"
   },
   "outputs": [],
   "source": [
    "def Sigmoid(Z):\n",
    "  \n",
    "  activation= 1/(1+np.exp(-Z))\n",
    "  cache=Z\n",
    "\n",
    "  return activation,cache"
   ]
  },
  {
   "cell_type": "markdown",
   "metadata": {
    "id": "FZGxyGqmVIYf"
   },
   "source": [
    "## Creating Function For A Single Forward Propagation\n",
    "\n",
    "Here I have created a function for forward propagation from one layer to another. \n",
    "\n",
    "It takes activation (previous), Parameters (W and b), and activation name as input.\n",
    "\n",
    "If activation name is **RELU**, a forward propagation with RELU activation will be done.\n",
    "\n",
    "If activation name is **Sigmoid**, a forward propagation with Sigmoid will be done."
   ]
  },
  {
   "cell_type": "markdown",
   "metadata": {
    "id": "cuwQINj9aFCU"
   },
   "source": [
    "**CACHE**: Here I'm saving caches because after forward propagation is completed they are going to be used in Backward Propagation. So, I save the caches for later use in the backward propagation.\n",
    "\n",
    "NOTE: The Cache contains linear and activation cache.\n",
    "\n",
    "**Linear cache**: A_prev, W, b for a single forward propagation\n",
    "\n",
    "**Activation cache** : Z for a single forward propagation "
   ]
  },
  {
   "cell_type": "code",
   "execution_count": 12,
   "metadata": {
    "id": "StLTa3_-zoLf"
   },
   "outputs": [],
   "source": [
    "def linear_activation_forward(A_prev,W,b,activation_fn):\n",
    "  \n",
    "  if activation_fn == \"RELU\":\n",
    "    # Generate Z\n",
    "    Z = np.dot(W ,A_prev) + b\n",
    "    # Generate activation\n",
    "    A,activation_cache = RELU(Z)\n",
    "  \n",
    "  elif activation_fn == \"Sigmoid\":\n",
    "    \n",
    "    # Generate Z\n",
    "    Z = np.dot(W ,A_prev) + b\n",
    "    # Generate activation\n",
    "    A,activation_cache = Sigmoid(Z)\n",
    "  \n",
    "  # saving the linear cache\n",
    "  linear_cache = (A_prev,W,b)\n",
    "\n",
    "  # saving linear and activation cache together for back propagation\n",
    "  cache = (linear_cache,activation_cache)\n",
    "\n",
    "  return A,cache\n",
    "\n"
   ]
  },
  {
   "cell_type": "markdown",
   "metadata": {
    "id": "8s_HGvT9YxfQ"
   },
   "source": [
    "## Creating a Function For Complete Forward Propagation\n",
    "Here I have created a function that uses above function and perform the complete forward propagation step.\n",
    "\n",
    "It takes X and parameters as input.\n",
    "\n",
    "**X**: The samples I generated for input\n",
    "\n",
    "**parameters**: The parameters dictionary\n",
    "\n",
    "This returns AL and caches:\n",
    "\n",
    "**AL** : The output value or activation for the final layer\n",
    "\n",
    "**caches** : An array that contains all the cache combined. \n"
   ]
  },
  {
   "cell_type": "code",
   "execution_count": 13,
   "metadata": {
    "id": "bWtkEtSlKYdP"
   },
   "outputs": [],
   "source": [
    "def L_model_forward(X, parameters):\n",
    "    \n",
    "    caches = []\n",
    "    A = X\n",
    "    L = len(parameters) // 2                  # number of layers in the neural network\n",
    "    \n",
    "    # Implement [LINEAR -> RELU]*(L-1). Add \"cache\" to the \"caches\" list.\n",
    "    for l in range(1, L):\n",
    "        A_prev = A \n",
    "        A, cache = linear_activation_forward(A_prev, parameters['W{:d}'.format(l)], parameters['b{:d}'.format(l)], activation_fn='RELU')\n",
    "        caches.append(cache)\n",
    "        \n",
    "    # Implement LINEAR -> SIGMOID. Add \"cache\" to the \"caches\" list.\n",
    "    AL, cache = linear_activation_forward(A, parameters['W%d' % L], parameters['b%d' % L], activation_fn='Sigmoid')\n",
    "    caches.append(cache)\n",
    "            \n",
    "    return AL, caches\n",
    "\n"
   ]
  },
  {
   "cell_type": "markdown",
   "metadata": {},
   "source": [
    "## Testing Our Forward Propagation"
   ]
  },
  {
   "cell_type": "code",
   "execution_count": 14,
   "metadata": {},
   "outputs": [
    {
     "data": {
      "text/plain": [
       "<matplotlib.collections.PathCollection at 0x222c5565fd0>"
      ]
     },
     "execution_count": 14,
     "metadata": {},
     "output_type": "execute_result"
    },
    {
     "data": {
      "image/png": "[encoded data removed]",
      "text/plain": [
       "<Figure size 432x288 with 1 Axes>"
      ]
     },
     "metadata": {
      "needs_background": "light"
     },
     "output_type": "display_data"
    }
   ],
   "source": [
    "# Expanding dimension for our training data\n",
    "X = np.expand_dims(X_train,axis=1).T\n",
    "\n",
    "# Forward propagation where we save only final activation layer\n",
    "output, _ = L_model_forward(X, parameters)\n",
    "\n",
    "# Plotting training data against inferenced output\n",
    "plt.scatter(X,output)"
   ]
  },
  {
   "cell_type": "markdown",
   "metadata": {},
   "source": [
    "This shows our forward propagation output is maximum at point 0.0(mean) in the x-axis."
   ]
  },
  {
   "cell_type": "markdown",
   "metadata": {
    "id": "uhcrPe_5bWsB"
   },
   "source": [
    "## Function To Compute Cost Using **Mean Square** Method"
   ]
  },
  {
   "cell_type": "code",
   "execution_count": 15,
   "metadata": {
    "id": "iOyk5HJFtUG0"
   },
   "outputs": [],
   "source": [
    "def cost_fn(AL,Y):\n",
    "\n",
    "  # Get total values of Y\n",
    "  m = Y.shape[0]\n",
    "  \n",
    "  # Y-AL\n",
    "  diff = np.subtract(Y,AL)\n",
    "  \n",
    "  # (Y-AL)^2\n",
    "  sq_diff = diff ** 2\n",
    "  \n",
    "  # Cost computation\n",
    "  cost =  (1/m) * np.sum(sq_diff)\n",
    "  \n",
    "  # Reduce the dimension to remove any incompatability.\n",
    "  cost = np.squeeze(cost)\n",
    "  \n",
    "  assert(cost.shape == ())\n",
    "    \n",
    "  return cost  \n",
    "\n"
   ]
  },
  {
   "cell_type": "markdown",
   "metadata": {
    "id": "4qK3EtN7cvOv"
   },
   "source": [
    "# Section-4: Back-Propagation"
   ]
  },
  {
   "cell_type": "markdown",
   "metadata": {
    "id": "n2U6BT4Wc8n2"
   },
   "source": [
    "## Creating a function that computes back propagation for activation function\n",
    "\n"
   ]
  },
  {
   "cell_type": "markdown",
   "metadata": {
    "id": "fvXuEFKedgY6"
   },
   "source": [
    "### **Sigmoid Backwards**\n",
    "Here I have created a function that takes dA and cache as inputs and outputs you with \n",
    "**dJ/dZ** (differentiation) for a sigmoid layer."
   ]
  },
  {
   "cell_type": "code",
   "execution_count": 16,
   "metadata": {
    "id": "zWtls8QRgdiv"
   },
   "outputs": [],
   "source": [
    "def sigmoid_backward(dA, cache):\n",
    "    \n",
    "    # Use Z from cache\n",
    "    Z = cache\n",
    "    \n",
    "    # Calculate derivative for sigmoid backwards\n",
    "    s = 1/(1+np.exp(-Z))\n",
    "    \n",
    "    # Calculate dJ/dZ\n",
    "    dZ = dA * s * (1-s)\n",
    "    \n",
    "    assert (dZ.shape == Z.shape)\n",
    "    \n",
    "    return dZ\n"
   ]
  },
  {
   "cell_type": "markdown",
   "metadata": {
    "id": "f2844yY8dx2p"
   },
   "source": [
    "### **RELU Backwards**\n",
    "Here I have created a function that takes dA and cache as inputs and outputs you with \n",
    "**dJ/dZ** (differentiation) for a RELU layer."
   ]
  },
  {
   "cell_type": "code",
   "execution_count": 17,
   "metadata": {
    "id": "hooCOTSCghBj"
   },
   "outputs": [],
   "source": [
    "def relu_backward(dA, cache):\n",
    "    \n",
    "    Z = cache\n",
    "    dZ = np.array(dA, copy=True) # just converting dz to a correct object.\n",
    "    \n",
    "    # When z <= 0, you should set dz to 0 as well.\n",
    "    # Derivative for RELU layer \n",
    "    dZ[Z <= 0] = 0\n",
    "    \n",
    "    assert (dZ.shape == Z.shape)\n",
    "    \n",
    "    return dZ\n",
    "\n",
    "\n"
   ]
  },
  {
   "cell_type": "markdown",
   "metadata": {
    "id": "xZqm-L_ShEro"
   },
   "source": [
    "## Creating a function that calculates dW, db and dA_prev using dZ and cache provided as input"
   ]
  },
  {
   "cell_type": "code",
   "execution_count": 18,
   "metadata": {
    "id": "6lCVqLiy2wCD"
   },
   "outputs": [],
   "source": [
    "def linear_backward(dZ, cache):\n",
    "    \n",
    "    A_prev, W, b = cache\n",
    "    m = A_prev.shape[1]\n",
    "\n",
    "    dW = 1 / m * dZ @ A_prev.T\n",
    "    db = 1 / m * np.sum(dZ, axis=1, keepdims=True)\n",
    "    dA_prev = W.T @ dZ\n",
    "    \n",
    "    assert (dA_prev.shape == A_prev.shape)\n",
    "    assert (dW.shape == W.shape)\n",
    "    assert (db.shape == b.shape)\n",
    "    \n",
    "    return dA_prev, dW, db\n",
    "\n"
   ]
  },
  {
   "cell_type": "markdown",
   "metadata": {
    "id": "cQpp6b8pha9R"
   },
   "source": [
    "## Creating a function performs a single backward propagation using the activation name"
   ]
  },
  {
   "cell_type": "code",
   "execution_count": 19,
   "metadata": {
    "id": "i7G4GavWgtmz"
   },
   "outputs": [],
   "source": [
    "def linear_activation_backward(dA, cache, activation_fn):\n",
    "    \n",
    "    linear_cache, activation_cache = cache\n",
    "    \n",
    "    if activation_fn == \"RELU\":\n",
    "        \n",
    "        dZ = relu_backward(dA, activation_cache)\n",
    "        dA_prev, dW, db = linear_backward(dZ, linear_cache)\n",
    "        \n",
    "    elif activation_fn == \"Sigmoid\":\n",
    "        \n",
    "        dZ = sigmoid_backward(dA, activation_cache)\n",
    "        dA_prev, dW, db = linear_backward(dZ, linear_cache)\n",
    "        \n",
    "    return dA_prev, dW, db"
   ]
  },
  {
   "cell_type": "markdown",
   "metadata": {
    "id": "wPNxgXToh0jw"
   },
   "source": [
    "## Creating A Function For Complete Forward Propagation"
   ]
  },
  {
   "cell_type": "code",
   "execution_count": 20,
   "metadata": {
    "id": "o0tdos_WQw-1"
   },
   "outputs": [],
   "source": [
    "def L_model_backward(AL, Y, caches):\n",
    "    \n",
    "    grads = {}\n",
    "    L = len(caches) # the number of layers\n",
    "    m = AL.shape[1]\n",
    "    Y = Y.reshape(AL.shape) # after this line, Y is the same shape as AL\n",
    "    \n",
    "    # Initializing the backpropagation\n",
    "    dAL = (-2/m) * ( Y - AL) # derivative of cost with respect to AL\n",
    "    \n",
    "    # Lth layer (SIGMOID -> LINEAR) gradients. Inputs: \"dAL, current_cache\". Outputs: \"grads[\"dAL-1\"], grads[\"dWL\"], grads[\"dbL\"]\n",
    "    #grads[\"dA\" + str(L-1)], grads[\"dW\" + str(L)], grads[\"db\" + str(L)] = None\n",
    "    current_cache = caches[L-1]\n",
    "    grads[\"dA\" + str(L-1)], grads[\"dW\" + str(L)], grads[\"db\" + str(L)] = linear_activation_backward(dAL, current_cache, \"Sigmoid\")\n",
    "    \n",
    "    # Loop from l=L-2 to l=0\n",
    "    for l in reversed(range(L-1)):\n",
    "        # lth layer: (RELU -> LINEAR) gradients.\n",
    "        # Inputs: \"grads[\"dA\" + str(l + 1)], current_cache\". Outputs: \"grads[\"dA\" + str(l)] , grads[\"dW\" + str(l + 1)] , grads[\"db\" + str(l + 1)] \n",
    "        current_cache = caches[l]\n",
    "        dA_prev_temp, dW_temp, db_temp = linear_activation_backward(grads[\"dA\" + str(l+1)], current_cache, \"RELU\")\n",
    "        grads[\"dA\" + str(l)] = dA_prev_temp\n",
    "        grads[\"dW\" + str(l + 1)] = dW_temp\n",
    "        grads[\"db\" + str(l + 1)] = db_temp\n",
    "        \n",
    "    return grads\n",
    "\n"
   ]
  },
  {
   "cell_type": "markdown",
   "metadata": {
    "id": "GDcQVP_KeiwM"
   },
   "source": [
    "# **Section-5: Update Parameters**"
   ]
  },
  {
   "cell_type": "markdown",
   "metadata": {
    "id": "8FFo_IDeetqM"
   },
   "source": [
    "After everything is set and done, I will use gradient descent to update the parameters"
   ]
  },
  {
   "cell_type": "code",
   "execution_count": 21,
   "metadata": {
    "id": "Y6CMSVTTkRxm"
   },
   "outputs": [],
   "source": [
    "def update_parameters(parameters, grads, learning_rate):\n",
    "    \n",
    "    L = len(parameters) // 2\n",
    "\n",
    "    for l in range(L):\n",
    "        \n",
    "        assert parameters[\"W\" + str(l+1)].shape == grads[\"dW\" + str(l+1)].shape\n",
    "        assert parameters[\"b\" + str(l+1)].shape == grads[\"db\" + str(l+1)].shape\n",
    "        \n",
    "        parameters[\"W\" + str(l+1)] = parameters[\"W\" + str(l+1)] - (learning_rate * grads[\"dW\" + str(l+1)])\n",
    "        parameters[\"b\" + str(l+1)] = parameters[\"b\" + str(l+1)] - (learning_rate * grads[\"db\" + str(l+1)])\n",
    "\n",
    "    return parameters\n",
    "\n"
   ]
  },
  {
   "cell_type": "markdown",
   "metadata": {
    "id": "7e08YLZ6cdnv"
   },
   "source": [
    "# **Section-6: Setup Everything And Start Training**"
   ]
  },
  {
   "cell_type": "markdown",
   "metadata": {
    "id": "hvF_sRElcqMA"
   },
   "source": [
    "Here I have started the training process as stated in the problem.\n",
    "\n",
    "Epoch I set is 20\n",
    "\n",
    "Batch size is 1\n",
    "\n",
    "And learning rate is 0.1"
   ]
  },
  {
   "cell_type": "code",
   "execution_count": 22,
   "metadata": {
    "colab": {
     "base_uri": "https://localhost:8080/"
    },
    "id": "MAsy52wjnEHI",
    "outputId": "b7b10cdd-4ab0-4397-a2ff-1be5402b5f4a"
   },
   "outputs": [
    {
     "name": "stdout",
     "output_type": "stream",
     "text": [
      "Cost after epoch:1 = 0.08825000876676686\n",
      "Cost after epoch:2 = 0.08405505243919584\n",
      "Cost after epoch:3 = 0.08390296285146033\n",
      "Cost after epoch:4 = 0.08385917589521193\n",
      "Cost after epoch:5 = 0.08385192044246782\n",
      "Cost after epoch:6 = 0.08384287386996118\n",
      "Cost after epoch:7 = 0.08382793158524564\n",
      "Cost after epoch:8 = 0.08382329395161062\n",
      "Cost after epoch:9 = 0.08380393754521687\n",
      "Cost after epoch:10 = 0.08379125807108209\n",
      "Cost after epoch:11 = 0.08378399911422776\n",
      "Cost after epoch:12 = 0.08376720516887269\n",
      "Cost after epoch:13 = 0.08375041778609499\n",
      "Cost after epoch:14 = 0.08375828062907179\n",
      "Cost after epoch:15 = 0.08371511303175247\n",
      "Cost after epoch:16 = 0.08370534002005829\n",
      "Cost after epoch:17 = 0.08368323758793832\n",
      "Cost after epoch:18 = 0.0836630691124093\n",
      "Cost after epoch:19 = 0.0836398900674194\n",
      "Cost after epoch:20 = 0.08361942070978115\n"
     ]
    }
   ],
   "source": [
    "# Setting our X and Y\n",
    "X = X_train \n",
    "Y = Y_train\n",
    "\n",
    "# Our total no. of data samples in X\n",
    "m = X.shape[0]\n",
    "\n",
    "# Set learning rate and epoch\n",
    "learning_rate = 0.1\n",
    "epoch = 20\n",
    "loss = []\n",
    "\n",
    "for e in range(0,epoch):  \n",
    "  \n",
    "  # Initializing our total cost recorded\n",
    "  J_sum=0\n",
    "\n",
    "  for i in range(m):  \n",
    "    \n",
    "    x = X[i].reshape((1,1))\n",
    "    y = Y[i].reshape((1,1))\n",
    "  \n",
    "    # Forward Propagation\n",
    "    AL,caches = L_model_forward(x, parameters)\n",
    "  \n",
    "    # Compute Cost Function\n",
    "    \n",
    "    # Cost for single tuple in a sample\n",
    "    J = cost_fn(AL,y) \n",
    "    \n",
    "    J_sum = J_sum + J\n",
    "    \n",
    "    # Backward Propagation\n",
    "    grad = L_model_backward(AL, y, caches)\n",
    "  \n",
    "    # Update Parameter\n",
    "    parameters = update_parameters(parameters, grad, learning_rate)\n",
    "  \n",
    "  # Our average cost \n",
    "  total_cost = J_sum/m \n",
    "  \n",
    "  loss.append(total_cost)\n",
    "  \n",
    "  print(\"Cost after epoch:{} = {}\".format(e+1,total_cost))\n",
    "\n"
   ]
  },
  {
   "cell_type": "markdown",
   "metadata": {},
   "source": [
    "# **Section-7: Evaluating Performance On Our Validation Data**"
   ]
  },
  {
   "cell_type": "markdown",
   "metadata": {
    "id": "PYkFnNOpjvnX"
   },
   "source": [
    "### Using mean square error to evaluate performance on the validation data"
   ]
  },
  {
   "cell_type": "code",
   "execution_count": 23,
   "metadata": {
    "colab": {
     "base_uri": "https://localhost:8080/"
    },
    "id": "oZw40ZXTT5Mm",
    "outputId": "d5574ac8-fe22-4eda-f789-e4cd4535afda"
   },
   "outputs": [
    {
     "name": "stdout",
     "output_type": "stream",
     "text": [
      "Mean Square Error : 0.08358964673293214\n"
     ]
    }
   ],
   "source": [
    "# Reshape our data from (100,) to (100,1) otherwise it will give an error\n",
    "X_val = np.expand_dims(X_test,axis=1).T\n",
    "\n",
    "#Forward propagate\n",
    "Y_val, _ = L_model_forward(X_val, parameters)\n",
    "\n",
    "#Calculating MSE\n",
    "Mean_Square_Error = cost_fn(Y_val,Y_test)\n",
    "print(\"Mean Square Error : {}\".format(Mean_Square_Error))\n",
    "\n"
   ]
  },
  {
   "cell_type": "markdown",
   "metadata": {},
   "source": [
    "## Evaluating our model performance per epoch"
   ]
  },
  {
   "cell_type": "code",
   "execution_count": 24,
   "metadata": {},
   "outputs": [
    {
     "data": {
      "image/png": "[encoded data removed]",
      "text/plain": [
       "<Figure size 720x360 with 1 Axes>"
      ]
     },
     "metadata": {
      "needs_background": "light"
     },
     "output_type": "display_data"
    }
   ],
   "source": [
    "loss = np.array(loss)\n",
    "epoch_steps = np.arange(1,epoch+1)\n",
    "\n",
    "plt.figure(figsize=(10,5))\n",
    "plt.plot(epoch_steps,loss)\n",
    "plt.title('Loss Per Epoch')\n",
    "plt.xlabel('Epochs')\n",
    "plt.ylabel('Loss')\n",
    "plt.show()"
   ]
  },
  {
   "cell_type": "markdown",
   "metadata": {},
   "source": [
    "## Ground Truth vs Inference"
   ]
  },
  {
   "cell_type": "code",
   "execution_count": 25,
   "metadata": {},
   "outputs": [
    {
     "data": {
      "image/png": "[encoded data removed]",
      "text/plain": [
       "<Figure size 720x360 with 1 Axes>"
      ]
     },
     "metadata": {
      "needs_background": "light"
     },
     "output_type": "display_data"
    }
   ],
   "source": [
    "X = np.expand_dims(sample,axis=1).T\n",
    "Y_hat,_ = L_model_forward(X, parameters)\n",
    "Y_hat = np.squeeze(Y_hat)\n",
    "\n",
    "plt.figure(figsize=(10,5))\n",
    "plt.plot(sample, y_value, 'o', label='Ground Truth')\n",
    "plt.plot(sample, Y_hat, '.', label='Model Inference')\n",
    "plt.legend(loc='upper left')\n",
    "plt.show()"
   ]
  },
  {
   "cell_type": "code",
   "execution_count": null,
   "metadata": {},
   "outputs": [],
   "source": []
  }
 ],
 "metadata": {
  "colab": {
   "collapsed_sections": [],
   "name": "Machine Learning Task.ipynb",
   "provenance": []
  },
  "kernelspec": {
   "display_name": "Python 3",
   "language": "python",
   "name": "python3"
  },
  "language_info": {
   "codemirror_mode": {
    "name": "ipython",
    "version": 3
   },
   "file_extension": ".py",
   "mimetype": "text/x-python",
   "name": "python",
   "nbconvert_exporter": "python",
   "pygments_lexer": "ipython3",
   "version": "3.8.3"
  }
 },
 "nbformat": 4,
 "nbformat_minor": 1
}
